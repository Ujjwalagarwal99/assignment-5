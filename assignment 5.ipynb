{
 "cells": [
  {
   "cell_type": "code",
   "execution_count": 1,
   "id": "9f0314a2-25a5-4879-844d-f1cbfcc39618",
   "metadata": {},
   "outputs": [
    {
     "name": "stdout",
     "output_type": "stream",
     "text": [
      "[('jack', 25534), ('ricky', 27483), ('sachin', 34357), ('virat', 24936)]\n"
     ]
    }
   ],
   "source": [
    "l=[('sachin',34357),('ricky',27483),('jack',25534),('virat',24936)]\n",
    "l1=sorted(l,key=lambda x:x[0])\n",
    "print(l1)"
   ]
  },
  {
   "cell_type": "code",
   "execution_count": 2,
   "id": "29232454-a379-4946-b444-c3f268ceed5b",
   "metadata": {},
   "outputs": [
    {
     "name": "stdout",
     "output_type": "stream",
     "text": [
      "('1', '2', '3', '4', '5', '6', '7', '8', '9', '10')\n"
     ]
    }
   ],
   "source": [
    "l=[1,2,3,4,5,6,7,8,9,10]\n",
    "t=tuple(map(lambda x:str(x),l))\n",
    "print(t)"
   ]
  },
  {
   "cell_type": "code",
   "execution_count": 3,
   "id": "97959970-7768-4fee-9681-d4cc28ad08c5",
   "metadata": {},
   "outputs": [
    {
     "name": "stdout",
     "output_type": "stream",
     "text": [
      "15511210043330985984000000\n"
     ]
    }
   ],
   "source": [
    "from functools import reduce\n",
    "def multiply(x,y):\n",
    "    return x*y\n",
    "n=list(range(1,26))\n",
    "pro=reduce(multiply,n)\n",
    "print(pro)"
   ]
  },
  {
   "cell_type": "code",
   "execution_count": 5,
   "id": "3797152c-d131-4e6d-8516-b1da55911e3e",
   "metadata": {},
   "outputs": [
    {
     "name": "stdout",
     "output_type": "stream",
     "text": [
      "[6, 60, 90, 120]\n"
     ]
    }
   ],
   "source": [
    "n=[2,3,6,9,27,60,90,120,55,46]\n",
    "divisible=list(filter(lambda x:x%2==0 and x%3==0,n))\n",
    "print(divisible)"
   ]
  },
  {
   "cell_type": "code",
   "execution_count": null,
   "id": "9d22c40b-fcfe-42bc-94a7-56823825d26e",
   "metadata": {},
   "outputs": [],
   "source": [
    "words= ['python','php','aba','radar','level']\n",
    "pal=filter(lambda word: word ==word[::-1],words)\n"
   ]
  }
 ],
 "metadata": {
  "kernelspec": {
   "display_name": "Python 3 (ipykernel)",
   "language": "python",
   "name": "python3"
  },
  "language_info": {
   "codemirror_mode": {
    "name": "ipython",
    "version": 3
   },
   "file_extension": ".py",
   "mimetype": "text/x-python",
   "name": "python",
   "nbconvert_exporter": "python",
   "pygments_lexer": "ipython3",
   "version": "3.10.8"
  }
 },
 "nbformat": 4,
 "nbformat_minor": 5
}
